{
 "cells": [
  {
   "cell_type": "markdown",
   "metadata": {},
   "source": [
    "## Results\n",
    "\n",
    "1. We have successfully reach 90% accuracy on validation set using resnet50\n",
    "\n",
    "![alt text](resnet50_epoch_801.png \"ResNet50\")"
   ]
  },
  {
   "cell_type": "code",
   "execution_count": 1,
   "metadata": {},
   "outputs": [
    {
     "name": "stdout",
     "output_type": "stream",
     "text": [
      "Using device: cuda\n",
      "Files already downloaded and verified\n",
      "Files already downloaded and verified\n",
      "Checkpoint loaded: Epoch 19, Best Validation Accuracy: 0.9108\n",
      "Evaluation - Loss: 0.2880, Accuracy: 0.9108\n",
      "Validation Loss: 0.2880\n",
      "Validation Accuracy: 91.08%\n"
     ]
    }
   ],
   "source": [
    "import torch\n",
    "import torch.nn as nn\n",
    "from models.resnet import resnet50  # Adjust based on your specific ResNet model (resnet34 or resnet50)\n",
    "from utils.dataset import get_CIFAR_10  # Function to load CIFAR-10 data\n",
    "from utils.evaluation import evaluate_model  # Import your evaluation function\n",
    "from utils.training import load_checkpoint\n",
    "import torch.optim as optim\n",
    "# Set device to GPU if available, otherwise use CPU\n",
    "device = torch.device('cuda' if torch.cuda.is_available() else 'cpu')\n",
    "print(f\"Using device: {device}\")\n",
    "\n",
    "# Load CIFAR-10 dataset (using validation loader)\n",
    "_, val_loader = get_CIFAR_10(batch_size=256, num_workers=8, augmentation='resnet')  # Load validation data\n",
    "\n",
    "# Initialize the ResNet model (same model architecture as the one used for training)\n",
    "model = resnet50(num_classes=10).to(device)  # Adjust if you trained a different ResNet model like resnet50\n",
    "\n",
    "# Load the trained model weights\n",
    "# model.load_state_dict(torch.load('resnet18_model.pth'))\n",
    "# model.to(device)\n",
    "# print(\"Model loaded successfully from 'resnet_model.pth'.\")\n",
    "# Assuming `model` and `optimizer` are already defined\n",
    "optimizer = optim.SGD(model.parameters(), lr=0.01,\n",
    "                      momentum=0.9, weight_decay=5e-4)\n",
    "model, optimizer, epoch, best_val_accuracy = load_checkpoint('resnet50_model.pth', model, optimizer)\n",
    "# model.load_state_dict(torch.load('resnet50_model.pth'))\n",
    "# Define the loss function (same as used during training)\n",
    "criterion = nn.CrossEntropyLoss()\n",
    "\n",
    "# Evaluate the loaded model on the validation set\n",
    "evaluation_results = evaluate_model(model, val_loader, criterion, device)\n",
    "\n",
    "# Print the evaluation results\n",
    "print(f\"Validation Loss: {evaluation_results['loss']:.4f}\")\n",
    "print(f\"Validation Accuracy: {evaluation_results['accuracy'] * 100:.2f}%\")"
   ]
  },
  {
   "cell_type": "markdown",
   "metadata": {},
   "source": [
    "2. I failed the implementation of MobiNet, I did not see a complete description how the architect was designed and any implementation online. Here is the result, I switch to implementing Mobile Net as I am not really sure which one I should do. The paper is attached here: \n",
    "\n",
    "MoBiNet: A Mobile Binary Network for Image Classification"
   ]
  },
  {
   "cell_type": "markdown",
   "metadata": {},
   "source": [
    "### 3. Mobile Net V1"
   ]
  }
 ],
 "metadata": {
  "kernelspec": {
   "display_name": "ml",
   "language": "python",
   "name": "ml"
  },
  "language_info": {
   "codemirror_mode": {
    "name": "ipython",
    "version": 3
   },
   "file_extension": ".py",
   "mimetype": "text/x-python",
   "name": "python",
   "nbconvert_exporter": "python",
   "pygments_lexer": "ipython3",
   "version": "3.10.12"
  }
 },
 "nbformat": 4,
 "nbformat_minor": 2
}
