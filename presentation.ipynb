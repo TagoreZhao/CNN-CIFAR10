{
 "cells": [
  {
   "cell_type": "markdown",
   "metadata": {},
   "source": [
    "## Results\n",
    "\n",
    "1. We have successfully reach 90% accuracy on validation set using resnet50 in 801 epochs\n",
    "\n",
    "![alt text](resnet50_epoch_801.png \"ResNet50\")"
   ]
  },
  {
   "cell_type": "code",
   "execution_count": 1,
   "metadata": {},
   "outputs": [
    {
     "name": "stdout",
     "output_type": "stream",
     "text": [
      "Using device: cuda\n",
      "Files already downloaded and verified\n",
      "Files already downloaded and verified\n",
      "Checkpoint loaded: Epoch 19, Best Validation Accuracy: 0.9108\n",
      "Evaluation - Loss: 0.2880, Accuracy: 0.9108\n",
      "Validation Loss: 0.2880\n",
      "Validation Accuracy: 91.08%\n"
     ]
    }
   ],
   "source": [
    "import torch\n",
    "import torch.nn as nn\n",
    "from models.resnet import resnet50  # Adjust based on your specific ResNet model (resnet34 or resnet50)\n",
    "from utils.dataset import get_CIFAR_10  # Function to load CIFAR-10 data\n",
    "from utils.evaluation import evaluate_model  # Import your evaluation function\n",
    "from utils.training import load_checkpoint\n",
    "import torch.optim as optim\n",
    "# Set device to GPU if available, otherwise use CPU\n",
    "device = torch.device('cuda' if torch.cuda.is_available() else 'cpu')\n",
    "print(f\"Using device: {device}\")\n",
    "\n",
    "# Load CIFAR-10 dataset (using validation loader)\n",
    "_, val_loader = get_CIFAR_10(batch_size=256, num_workers=8, augmentation='resnet')  # Load validation data\n",
    "\n",
    "# Initialize the ResNet model (same model architecture as the one used for training)\n",
    "model = resnet50(num_classes=10).to(device)  # Adjust if you trained a different ResNet model like resnet50\n",
    "\n",
    "# Load the trained model weights\n",
    "# model.load_state_dict(torch.load('resnet18_model.pth'))\n",
    "# model.to(device)\n",
    "# print(\"Model loaded successfully from 'resnet_model.pth'.\")\n",
    "# Assuming `model` and `optimizer` are already defined\n",
    "optimizer = optim.SGD(model.parameters(), lr=0.01,\n",
    "                      momentum=0.9, weight_decay=5e-4)\n",
    "model, optimizer, epoch, best_val_accuracy = load_checkpoint('resnet50_model.pth', model, optimizer)\n",
    "# model.load_state_dict(torch.load('resnet50_model.pth'))\n",
    "# Define the loss function (same as used during training)\n",
    "criterion = nn.CrossEntropyLoss()\n",
    "\n",
    "# Evaluate the loaded model on the validation set\n",
    "evaluation_results = evaluate_model(model, val_loader, criterion, device)\n",
    "\n",
    "# Print the evaluation results\n",
    "print(f\"Validation Loss: {evaluation_results['loss']:.4f}\")\n",
    "print(f\"Validation Accuracy: {evaluation_results['accuracy'] * 100:.2f}%\")"
   ]
  },
  {
   "cell_type": "markdown",
   "metadata": {},
   "source": [
    "2. I failed the implementation of MobiNet, I did not see a complete description how the architect was designed and any implementation online. Here is the result, I switch to implementing Mobile Net as I am not really sure which one I should do. The paper is attached here: \n",
    "\n",
    "MoBiNet: A Mobile Binary Network for Image Classification"
   ]
  },
  {
   "cell_type": "markdown",
   "metadata": {},
   "source": [
    "### 3. Mobile Net V1\n",
    "\n",
    "Successfully replicate teh Mobile Net V1 following the paper and guidance online. Reach 80.73% accuracy in 80 epochs. However the model reaches its limit around 380 epochs as the training accuracy reaches 99.77% with best validation accuracy only 85.23%. This shows that the model encountered overffiting. After adding drop out layer before fully connected layer, we reach validation accuracy 89.67%. I am still trying to improve this result.\n",
    "\n",
    "![alt text](MobileNetV1(ndp)_epoch_380.png \"MobileNetV1\")\n"
   ]
  },
  {
   "cell_type": "code",
   "execution_count": 1,
   "metadata": {},
   "outputs": [
    {
     "name": "stdout",
     "output_type": "stream",
     "text": [
      "Using device: cuda\n",
      "Files already downloaded and verified\n",
      "Files already downloaded and verified\n",
      "Checkpoint loaded: Epoch 19, Best Validation Accuracy: 0.8345\n",
      "New Learning Rate: 0.005\n",
      "Evaluation - Loss: 2.4294, Accuracy: 0.1000\n",
      "Validation Loss: 2.4294\n",
      "Validation Accuracy: 10.00%\n"
     ]
    }
   ],
   "source": [
    "import torch\n",
    "import torch.nn as nn\n",
    "from models.MobileNetV1 import MobileNetV1, mobilenet_v1 # Adjust based on your specific ResNet model (resnet34 or resnet50)\n",
    "from utils.dataset import get_CIFAR_10  # Function to load CIFAR-10 data\n",
    "from utils.evaluation import evaluate_model  # Import your evaluation function\n",
    "from utils.training import load_checkpoint\n",
    "import torch.optim as optim\n",
    "# Set device to GPU if available, otherwise use CPU\n",
    "device = torch.device('cuda' if torch.cuda.is_available() else 'cpu')\n",
    "print(f\"Using device: {device}\")\n",
    "\n",
    "# Load CIFAR-10 dataset (using validation loader)\n",
    "_, val_loader = get_CIFAR_10(batch_size=256, num_workers=8, augmentation='mobilenetv1')  # Load validation data\n",
    "\n",
    "# Initialize MobileNetV1 model with width and resolution multipliers\n",
    "model = mobilenet_v1(num_classes=10, width_multiplier=0.75, resolution_multiplier=0.5).to(device)\n",
    "\n",
    "# Load the trained model weights\n",
    "# model.load_state_dict(torch.load('resnet18_model.pth'))\n",
    "# model.to(device)\n",
    "# print(\"Model loaded successfully from 'resnet_model.pth'.\")\n",
    "# Assuming `model` and `optimizer` are already defined\n",
    "optimizer = optim.SGD(model.parameters(), lr=1e-4,\n",
    "                      momentum=0.9, weight_decay=5e-4)\n",
    "model, optimizer, epoch, best_val_accuracy = load_checkpoint('mobilenet_v1_model.pth', model, optimizer)\n",
    "# model.load_state_dict(torch.load('resnet50_model.pth'))\n",
    "# Define the loss function (same as used during training)\n",
    "criterion = nn.CrossEntropyLoss()\n",
    "\n",
    "# Evaluate the loaded model on the validation set\n",
    "evaluation_results = evaluate_model(model, val_loader, criterion, device)\n",
    "\n",
    "# Print the evaluation results\n",
    "print(f\"Validation Loss: {evaluation_results['loss']:.4f}\")\n",
    "print(f\"Validation Accuracy: {evaluation_results['accuracy'] * 100:.2f}%\")"
   ]
  },
  {
   "cell_type": "code",
   "execution_count": 1,
   "metadata": {},
   "outputs": [
    {
     "name": "stdout",
     "output_type": "stream",
     "text": [
      "Using device: cuda\n",
      "Files already downloaded and verified\n",
      "Files already downloaded and verified\n",
      "Using device: cuda\n",
      "Files already downloaded and verified\n",
      "Files already downloaded and verified\n",
      "Checkpoint loaded: Epoch 19, Best Validation Accuracy: 0.8932\n"
     ]
    },
    {
     "name": "stderr",
     "output_type": "stream",
     "text": [
      "/home/coder/miniconda3/envs/ml/lib/python3.10/site-packages/torch/optim/lr_scheduler.py:28: UserWarning: The verbose parameter is deprecated. Please use get_last_lr() to access the learning rate.\n",
      "  warnings.warn(\"The verbose parameter is deprecated. Please use get_last_lr() \"\n"
     ]
    },
    {
     "name": "stdout",
     "output_type": "stream",
     "text": [
      "Evaluation - Loss: 0.3786, Accuracy: 0.8932\n",
      "Validation Loss: 0.3786\n",
      "Validation Accuracy: 89.32%\n"
     ]
    }
   ],
   "source": [
    "import torch\n",
    "import torch.nn as nn\n",
    "from models.MobileNetV2 import MobileNetV2, mobilenet_v2 # Adjust based on your specific ResNet model (resnet34 or resnet50)\n",
    "from utils.dataset import get_CIFAR_10  # Function to load CIFAR-10 data\n",
    "from utils.evaluation import evaluate_model  # Import your evaluation function\n",
    "from utils.training import load_checkpoint\n",
    "import torch.optim as optim\n",
    "# Set device to GPU if available, otherwise use CPU\n",
    "device = torch.device('cuda' if torch.cuda.is_available() else 'cpu')\n",
    "print(f\"Using device: {device}\")\n",
    "\n",
    "# Load CIFAR-10 dataset (using validation loader)\n",
    "_, val_loader = get_CIFAR_10(batch_size=256, num_workers=8, augmentation='mobilenetv1')  # Load validation data\n",
    "\n",
    "# Initialize MobileNetV1 model with width and resolution multipliers\n",
    "# Set device to GPU if available, otherwise use CPU\n",
    "device = torch.device('cuda' if torch.cuda.is_available() else 'cpu')\n",
    "print(f\"Using device: {device}\")\n",
    "\n",
    "# Load CIFAR-10 dataset with data augmentation suitable for MobileNet\n",
    "train_loader, val_loader = get_CIFAR_10(batch_size=256, num_workers=8, augmentation='resnet')\n",
    "\n",
    "# Initialize MobileNetV2 model with width and resolution multipliers\n",
    "model = mobilenet_v2(num_classes=10, width_multiplier=1.0, resolution_multiplier=1.0, dropout_rate=0.2).to(device)\n",
    "\n",
    "# Define loss function and optimizer\n",
    "criterion = nn.CrossEntropyLoss()\n",
    "optimizer = optim.SGD(model.parameters(), lr=0.005, momentum=0.9, weight_decay=1e-3)\n",
    "\n",
    "# Define learning rate scheduler\n",
    "scheduler = optim.lr_scheduler.ReduceLROnPlateau(optimizer, mode='min', factor=0.1, patience=5, verbose=True)\n",
    "model, optimizer, epoch, best_val_accuracy = load_checkpoint('mobilenet_v2_model.pth', model, optimizer)\n",
    "# Evaluate the loaded model on the validation set\n",
    "evaluation_results = evaluate_model(model, val_loader, criterion, device)\n",
    "\n",
    "# Print the evaluation results\n",
    "print(f\"Validation Loss: {evaluation_results['loss']:.4f}\")\n",
    "print(f\"Validation Accuracy: {evaluation_results['accuracy'] * 100:.2f}%\")"
   ]
  }
 ],
 "metadata": {
  "kernelspec": {
   "display_name": "ml",
   "language": "python",
   "name": "python3"
  },
  "language_info": {
   "codemirror_mode": {
    "name": "ipython",
    "version": 3
   },
   "file_extension": ".py",
   "mimetype": "text/x-python",
   "name": "python",
   "nbconvert_exporter": "python",
   "pygments_lexer": "ipython3",
   "version": "3.10.12"
  }
 },
 "nbformat": 4,
 "nbformat_minor": 2
}
