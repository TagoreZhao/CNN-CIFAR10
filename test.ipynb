{
 "cells": [
  {
   "cell_type": "code",
   "execution_count": 17,
   "metadata": {},
   "outputs": [],
   "source": [
    "from utils import data_loaders as dl\n",
    "from utils import utils as ut\n",
    "from models import CustomCNN as ccnn\n",
    "import matplotlib.pyplot as plt\n",
    "import torch"
   ]
  },
  {
   "cell_type": "code",
   "execution_count": 18,
   "metadata": {},
   "outputs": [
    {
     "name": "stdout",
     "output_type": "stream",
     "text": [
      "using device: cpu\n"
     ]
    }
   ],
   "source": [
    "USE_GPU = True\n",
    "dtype = torch.float32 # We will be using float throughout this tutorial.\n",
    "\n",
    "if USE_GPU and torch.cuda.is_available():\n",
    "    device = torch.device('cuda')\n",
    "else:\n",
    "    device = torch.device('cpu')\n",
    "\n",
    "# Constant to control how frequently we print train loss.\n",
    "print_every = 100\n",
    "print('using device:', device)"
   ]
  },
  {
   "cell_type": "code",
   "execution_count": 19,
   "metadata": {},
   "outputs": [
    {
     "name": "stdout",
     "output_type": "stream",
     "text": [
      "Files already downloaded and verified\n",
      "Files already downloaded and verified\n"
     ]
    }
   ],
   "source": [
    "trainloader, testloader = dl.get_CIFAR_10(batch_size=64, num_workers=5)"
   ]
  },
  {
   "cell_type": "code",
   "execution_count": 20,
   "metadata": {},
   "outputs": [
    {
     "name": "stdout",
     "output_type": "stream",
     "text": [
      "Files already downloaded and verified\n",
      "Files already downloaded and verified\n",
      "Epoch [1/20], Loss: 1.5874, Accuracy: 42.57%\n",
      "Epoch [2/20], Loss: 1.1997, Accuracy: 57.05%\n",
      "Epoch [3/20], Loss: 1.0324, Accuracy: 63.26%\n",
      "Epoch [4/20], Loss: 0.9338, Accuracy: 67.02%\n",
      "Epoch [5/20], Loss: 0.8534, Accuracy: 70.00%\n",
      "Epoch [6/20], Loss: 0.7859, Accuracy: 72.47%\n",
      "Epoch [7/20], Loss: 0.7318, Accuracy: 74.29%\n",
      "Epoch [8/20], Loss: 0.6777, Accuracy: 76.21%\n",
      "Epoch [9/20], Loss: 0.6425, Accuracy: 77.64%\n",
      "Epoch [10/20], Loss: 0.6031, Accuracy: 78.80%\n",
      "Epoch [11/20], Loss: 0.5724, Accuracy: 80.11%\n",
      "Epoch [12/20], Loss: 0.5438, Accuracy: 81.06%\n",
      "Epoch [13/20], Loss: 0.5173, Accuracy: 82.03%\n",
      "Epoch [14/20], Loss: 0.4883, Accuracy: 83.08%\n",
      "Epoch [15/20], Loss: 0.4644, Accuracy: 83.69%\n",
      "Epoch [16/20], Loss: 0.4473, Accuracy: 84.50%\n",
      "Epoch [17/20], Loss: 0.4214, Accuracy: 85.24%\n",
      "Epoch [18/20], Loss: 0.4007, Accuracy: 85.94%\n",
      "Epoch [19/20], Loss: 0.3898, Accuracy: 86.40%\n",
      "Epoch [20/20], Loss: 0.3757, Accuracy: 86.75%\n",
      "Training complete.\n"
     ]
    },
    {
     "ename": "TypeError",
     "evalue": "cannot unpack non-iterable NoneType object",
     "output_type": "error",
     "traceback": [
      "\u001b[0;31m---------------------------------------------------------------------------\u001b[0m",
      "\u001b[0;31mTypeError\u001b[0m                                 Traceback (most recent call last)",
      "Cell \u001b[0;32mIn[20], line 6\u001b[0m\n\u001b[1;32m      2\u001b[0m model \u001b[38;5;241m=\u001b[39m ccnn\u001b[38;5;241m.\u001b[39mCustomCNN()\n\u001b[1;32m      5\u001b[0m \u001b[38;5;66;03m# Train the model and capture the loss and accuracy metrics\u001b[39;00m\n\u001b[0;32m----> 6\u001b[0m train_losses, train_accuracies \u001b[38;5;241m=\u001b[39m ut\u001b[38;5;241m.\u001b[39mtrain_model(model)\n",
      "\u001b[0;31mTypeError\u001b[0m: cannot unpack non-iterable NoneType object"
     ]
    }
   ],
   "source": [
    "# Initialize the model\n",
    "model = ccnn.CustomCNN()\n",
    "\n",
    "\n",
    "# Train the model and capture the loss and accuracy metrics\n",
    "ut.train_model(model)"
   ]
  },
  {
   "cell_type": "markdown",
   "metadata": {},
   "source": [
    "### Evaluating the Model on the Validation Set\n",
    "Now that the model is trained, let's evaluate its performance on the validation (test) set to see how well it generalizes to unseen data."
   ]
  },
  {
   "cell_type": "code",
   "execution_count": 21,
   "metadata": {},
   "outputs": [
    {
     "name": "stdout",
     "output_type": "stream",
     "text": [
      "Validation Accuracy: 83.11%\n"
     ]
    }
   ],
   "source": [
    "# Set the model to evaluation mode\n",
    "model.eval()\n",
    "\n",
    "# Initialize variables to track accuracy\n",
    "correct = 0\n",
    "total = 0\n",
    "\n",
    "# Disable gradient calculation for evaluation\n",
    "with torch.no_grad():\n",
    "    for inputs, labels in testloader:\n",
    "        inputs, labels = inputs.to(device), labels.to(device)\n",
    "\n",
    "        # Forward pass\n",
    "        outputs = model(inputs)\n",
    "        _, predicted = outputs.max(1)\n",
    "\n",
    "        # Update accuracy tracking\n",
    "        total += labels.size(0)\n",
    "        correct += predicted.eq(labels).sum().item()\n",
    "\n",
    "# Calculate and print the accuracy on the validation set\n",
    "validation_accuracy = 100. * correct / total\n",
    "print(f'Validation Accuracy: {validation_accuracy:.2f}%')"
   ]
  },
  {
   "cell_type": "code",
   "execution_count": null,
   "metadata": {},
   "outputs": [],
   "source": [
    "# Plotting the training loss\n",
    "plt.figure(figsize=(12, 5))\n",
    "plt.subplot(1, 2, 1)\n",
    "plt.plot(train_losses, label='Training Loss')\n",
    "plt.xlabel('Epoch')\n",
    "plt.ylabel('Loss')\n",
    "plt.title('Training Loss per Epoch')\n",
    "plt.legend()\n",
    "plt.grid(True)\n",
    "\n",
    "# Plotting the training accuracy\n",
    "plt.subplot(1, 2, 2)\n",
    "plt.plot(train_accuracies, label='Training Accuracy')\n",
    "plt.xlabel('Epoch')\n",
    "plt.ylabel('Accuracy (%)')\n",
    "plt.title('Training Accuracy per Epoch')\n",
    "plt.legend()\n",
    "plt.grid(True)\n",
    "\n",
    "plt.tight_layout()\n",
    "plt.show()\n"
   ]
  }
 ],
 "metadata": {
  "kernelspec": {
   "display_name": "cs231n",
   "language": "python",
   "name": "python3"
  },
  "language_info": {
   "codemirror_mode": {
    "name": "ipython",
    "version": 3
   },
   "file_extension": ".py",
   "mimetype": "text/x-python",
   "name": "python",
   "nbconvert_exporter": "python",
   "pygments_lexer": "ipython3",
   "version": "3.10.13"
  }
 },
 "nbformat": 4,
 "nbformat_minor": 2
}
